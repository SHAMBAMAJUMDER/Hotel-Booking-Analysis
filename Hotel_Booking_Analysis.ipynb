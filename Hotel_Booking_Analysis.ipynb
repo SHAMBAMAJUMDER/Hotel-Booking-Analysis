{
  "nbformat": 4,
  "nbformat_minor": 0,
  "metadata": {
    "colab": {
      "private_outputs": true,
      "provenance": [],
      "collapsed_sections": [
        "gIfDvo9L0UH2"
      ],
      "include_colab_link": true
    },
    "kernelspec": {
      "name": "python3",
      "display_name": "Python 3"
    },
    "language_info": {
      "name": "python"
    }
  },
  "cells": [
    {
      "cell_type": "markdown",
      "metadata": {
        "id": "view-in-github",
        "colab_type": "text"
      },
      "source": [
        "<a href=\"https://colab.research.google.com/github/SHAMBAMAJUMDER/Hotel-Booking-Analysis/blob/main/Hotel_Booking_Analysis.ipynb\" target=\"_parent\"><img src=\"https://colab.research.google.com/assets/colab-badge.svg\" alt=\"Open In Colab\"/></a>"
      ]
    },
    {
      "cell_type": "markdown",
      "source": [
        "# **Project Name**    - Hotel Booking Analysis\n",
        "\n"
      ],
      "metadata": {
        "id": "vncDsAP0Gaoa"
      }
    },
    {
      "cell_type": "markdown",
      "source": [
        "##### **Project Type**    - EDA\n",
        "##### **Contribution**    - Individual"
      ],
      "metadata": {
        "id": "beRrZCGUAJYm"
      }
    },
    {
      "cell_type": "markdown",
      "source": [
        "# **Project Summary -** Analysis of Hotel Bookings Data"
      ],
      "metadata": {
        "id": "FJNUwmbgGyua"
      }
    },
    {
      "cell_type": "markdown",
      "source": [
        "#### Objective:\n",
        "The primary objective of this project is to analyze the provided hotel bookings data to extract meaningful insights, identify trends, and provide actionable recommendations to improve business operations and customer satisfaction.\n",
        "\n",
        "#### Data Overview:\n",
        "The dataset consists of various attributes related to hotel bookings, including information about the booking dates, customer demographics, booking status, stay duration, special requests, and more. The key columns include:\n",
        "\n",
        "- `hotel`: Type of hotel (City Hotel or Resort Hotel)\n",
        "- `is_canceled`: Booking status (canceled or not)\n",
        "- `lead_time`: Number of days between the booking date and the arrival date\n",
        "- `arrival_date_year`: Year of arrival\n",
        "- `arrival_date_month`: Month of arrival\n",
        "- `stays_in_weekend_nights`: Number of weekend nights\n",
        "- `stays_in_week_nights`: Number of week nights\n",
        "- `adults`: Number of adults\n",
        "- `children`: Number of children\n",
        "- `babies`: Number of babies\n",
        "- `meal`: Type of meal booked\n",
        "- `country`: Country of origin of the customer\n",
        "- `market_segment`: Market segment designation\n",
        "- `distribution_channel`: Booking distribution channel\n",
        "- `is_repeated_guest`: Whether the booking is from a repeated guest\n",
        "- `previous_cancellations`: Number of previous cancellations\n",
        "- `previous_bookings_not_canceled`: Number of previous non-canceled bookings\n",
        "- `reserved_room_type`: Code of room type reserved\n",
        "- `assigned_room_type`: Code of room type assigned\n",
        "- `booking_changes`: Number of changes made to the booking\n",
        "- `deposit_type`: Type of deposit made\n",
        "- `agent`: ID of the travel agency that made the booking\n",
        "- `company`: ID of the company that made the booking\n",
        "- `days_in_waiting_list`: Number of days the booking was on the waiting list\n",
        "- `customer_type`: Type of customer (e.g., transient, contract, etc.)\n",
        "- `adr`: Average Daily Rate\n",
        "- `required_car_parking_spaces`: Number of car parking spaces required\n",
        "- `total_of_special_requests`: Number of special requests made\n",
        "\n",
        "#### Key Analyses and Visualizations:\n",
        "1. **Booking Status Analysis**:\n",
        "   - **Cancellation Rate**: Analyzing the proportion of canceled bookings versus non-canceled bookings.\n",
        "   - **Lead Time Distribution**: Examining the distribution of lead times for both canceled and non-canceled bookings to identify if longer or shorter lead times correlate with cancellations.\n",
        "\n",
        "2. **Customer Demographics**:\n",
        "   - **Country of Origin**: Identifying the top countries from which customers originate and their booking behavior.\n",
        "   - **Family Composition**: Analyzing the number of adults, children, and babies per booking to understand the typical family size of guests.\n",
        "\n",
        "3. **Booking Patterns**:\n",
        "   - **Seasonality**: Analyzing booking trends over different months and years to identify peak booking periods.\n",
        "   - **Stay Duration**: Examining the distribution of stay durations (weekend nights vs. week nights).\n",
        "\n",
        "4. **Market Segments and Distribution Channels**:\n",
        "   - **Market Segment Analysis**: Understanding the distribution of bookings across different market segments.\n",
        "   - **Distribution Channel Efficiency**: Analyzing which distribution channels are most effective in terms of booking volumes and cancellations.\n",
        "\n",
        "5. **Special Requests and Customer Preferences**:\n",
        "   - **Special Requests**: Analyzing the frequency and type of special requests made by customers.\n",
        "   - **Room Type Analysis**: Comparing reserved room types with assigned room types to understand room allocation practices and customer satisfaction.\n",
        "\n",
        "6. **Financial Analysis**:\n",
        "   - **Average Daily Rate (ADR)**: Analyzing the ADR across different booking segments, seasons, and customer types to identify revenue trends.\n",
        "   - **Revenue Contribution**: Estimating the revenue contribution from different customer segments and booking types.\n",
        "\n",
        "#### Business Impact:\n",
        "The insights gained from this analysis will help hotel management in the following ways:\n",
        "- **Improving Customer Retention**: By understanding the factors leading to cancellations and identifying patterns, targeted strategies can be developed to reduce cancellation rates.\n",
        "- **Optimizing Pricing Strategies**: Analysis of ADR and booking patterns can inform dynamic pricing strategies to maximize revenue.\n",
        "- **Enhancing Customer Experience**: Insights into special requests and room allocation practices can help in improving guest satisfaction and repeat bookings.\n",
        "- **Efficient Resource Allocation**: Understanding peak booking periods and stay durations can aid in better resource planning and staffing.\n",
        "\n",
        "By leveraging these insights, the hotel can enhance operational efficiency, improve customer satisfaction, and ultimately drive higher profitability."
      ],
      "metadata": {
        "id": "F6v_1wHtG2nS"
      }
    },
    {
      "cell_type": "markdown",
      "source": [
        "# **GitHub Link -**"
      ],
      "metadata": {
        "id": "w6K7xa23Elo4"
      }
    },
    {
      "cell_type": "markdown",
      "source": [
        "https://github.com/SHAMBAMAJUMDER/Hotel-Booking-Analysis/blob/main/Hotel_Booking_Analysis.ipynb"
      ],
      "metadata": {
        "id": "h1o69JH3Eqqn"
      }
    },
    {
      "cell_type": "markdown",
      "source": [
        "# **Problem Statement**\n"
      ],
      "metadata": {
        "id": "yQaldy8SH6Dl"
      }
    },
    {
      "cell_type": "markdown",
      "source": [
        "The hospitality industry is highly competitive, with customer preferences and booking patterns playing a crucial role in the success of hotels. In this context, understanding the dynamics of hotel bookings is essential for improving operational efficiency, enhancing customer satisfaction, and maximizing revenue.\n",
        "\n",
        "#### Key Challenges:\n",
        "\n",
        "1. **High Cancellation Rates**:\n",
        "   - Frequent cancellations can disrupt planning and revenue forecasting, leading to potential losses and inefficiencies in resource allocation.\n",
        "\n",
        "2. **Identifying Peak Booking Periods**:\n",
        "   - Understanding seasonality and booking trends is essential for optimizing pricing strategies and ensuring adequate staffing and resource availability.\n",
        "\n",
        "3. **Customer Segmentation and Preferences**:\n",
        "   - Diverse customer preferences and behaviors require tailored strategies to enhance guest experiences and drive repeat bookings.\n",
        "\n",
        "4. **Effective Distribution Channel Management**:\n",
        "   - Analyzing the performance of different distribution channels can help in identifying the most cost-effective and high-performing channels for attracting bookings.\n",
        "\n",
        "5. **Revenue Optimization**:\n",
        "   - Understanding the factors influencing the Average Daily Rate (ADR) and overall revenue contribution from various segments is crucial for strategic pricing and marketing efforts.\n",
        "\n",
        "#### Objective:\n",
        "\n",
        "To analyze the provided hotel bookings data and extract actionable insights that address the key challenges faced by the hotel. The goal is to provide recommendations that will help in reducing cancellation rates, optimizing resource allocation, enhancing customer satisfaction, and maximizing revenue.\n",
        "\n",
        "#### Specific Questions to Address:\n",
        "\n",
        "1. **What are the primary factors contributing to booking cancellations, and how can they be mitigated?**\n",
        "2. **What are the booking patterns and peak periods for both city hotels and resort hotels?**\n",
        "3. **What are the key demographic characteristics and booking behaviors of the customers?**\n",
        "4. **Which market segments and distribution channels are most effective in terms of booking volumes and cancellations?**\n",
        "5. **How do different factors such as lead time, stay duration, and special requests influence the Average Daily Rate (ADR) and overall revenue?**\n",
        "\n",
        "By addressing these questions through a comprehensive analysis of the dataset, we aim to provide strategic recommendations that will help the hotel management in making informed decisions, improving operational efficiency, and enhancing overall business performance."
      ],
      "metadata": {
        "id": "DpeJGUA3kjGy"
      }
    },
    {
      "cell_type": "markdown",
      "source": [
        "#### **Define Your Business Objective?**"
      ],
      "metadata": {
        "id": "PH-0ReGfmX4f"
      }
    },
    {
      "cell_type": "markdown",
      "source": [
        "The primary business objective is to enhance the operational efficiency, customer satisfaction, and profitability of the hotel by leveraging data-driven insights from the analysis of hotel bookings data. This involves identifying key factors affecting bookings, understanding customer preferences, optimizing pricing and resource allocation, and improving the effectiveness of marketing and distribution strategies.\n",
        "\n",
        "#### Specific Objectives:\n",
        "\n",
        "1. **Reduce Cancellation Rates**:\n",
        "   - **Objective**: Identify the primary factors leading to booking cancellations and develop strategies to mitigate them.\n",
        "   - **Impact**: Decreasing cancellations will improve revenue stability and enhance planning and resource allocation.\n",
        "\n",
        "2. **Optimize Pricing Strategies**:\n",
        "   - **Objective**: Analyze booking patterns and factors affecting the Average Daily Rate (ADR) to implement dynamic pricing strategies.\n",
        "   - **Impact**: Maximizing revenue through optimal pricing adjustments based on demand, seasonality, and customer segments.\n",
        "\n",
        "3. **Enhance Customer Satisfaction and Retention**:\n",
        "   - **Objective**: Understand customer preferences and behaviors to improve guest experiences and increase repeat bookings.\n",
        "   - **Impact**: Higher customer satisfaction will lead to increased loyalty, positive reviews, and higher occupancy rates.\n",
        "\n",
        "4. **Improve Resource Allocation and Planning**:\n",
        "   - **Objective**: Identify peak booking periods, stay durations, and special requests to optimize staffing, inventory, and other resources.\n",
        "   - **Impact**: Efficient resource management will reduce operational costs and improve service quality.\n",
        "\n",
        "5. **Strengthen Market and Channel Effectiveness**:\n",
        "   - **Objective**: Evaluate the performance of different market segments and distribution channels to allocate marketing efforts and resources effectively.\n",
        "   - **Impact**: Enhanced marketing strategies will attract more bookings through the most effective channels, increasing overall revenue.\n",
        "\n",
        "6. **Increase Revenue and Profitability**:\n",
        "   - **Objective**: Use insights from the data to identify opportunities for revenue growth and cost reduction.\n",
        "   - **Impact**: Higher revenue and profitability through strategic decision-making based on data analysis.\n",
        "\n",
        "By achieving these objectives, the hotel will be able to make informed decisions that lead to better management of bookings, improved customer experiences, optimized pricing strategies, and ultimately, increased profitability and market competitiveness."
      ],
      "metadata": {
        "id": "PhDvGCAqmjP1"
      }
    },
    {
      "cell_type": "markdown",
      "source": [
        "# **General Guidelines** : -  "
      ],
      "metadata": {
        "id": "mDgbUHAGgjLW"
      }
    },
    {
      "cell_type": "markdown",
      "source": [
        "1.   Well-structured, formatted, and commented code is required.\n",
        "2.   Exception Handling, Production Grade Code & Deployment Ready Code will be a plus. Those students will be awarded some additional credits.\n",
        "     \n",
        "     The additional credits will have advantages over other students during Star Student selection.\n",
        "       \n",
        "             [ Note: - Deployment Ready Code is defined as, the whole .ipynb notebook should be executable in one go\n",
        "                       without a single error logged. ]\n",
        "\n",
        "3.   Each and every logic should have proper comments.\n",
        "4. You may add as many number of charts you want. Make Sure for each and every chart the following format should be answered.\n",
        "        \n",
        "\n",
        "```\n",
        "# Chart visualization code\n",
        "```\n",
        "            \n",
        "\n",
        "*   Why did you pick the specific chart?\n",
        "*   What is/are the insight(s) found from the chart?\n",
        "* Will the gained insights help creating a positive business impact?\n",
        "Are there any insights that lead to negative growth? Justify with specific reason.\n",
        "\n",
        "5. You have to create at least 20 logical & meaningful charts having important insights.\n",
        "\n",
        "\n",
        "[ Hints : - Do the Vizualization in  a structured way while following \"UBM\" Rule.\n",
        "\n",
        "U - Univariate Analysis,\n",
        "\n",
        "B - Bivariate Analysis (Numerical - Categorical, Numerical - Numerical, Categorical - Categorical)\n",
        "\n",
        "M - Multivariate Analysis\n",
        " ]\n",
        "\n",
        "\n",
        "\n"
      ],
      "metadata": {
        "id": "ZrxVaUj-hHfC"
      }
    },
    {
      "cell_type": "markdown",
      "source": [
        "# ***Let's Begin !***"
      ],
      "metadata": {
        "id": "O_i_v8NEhb9l"
      }
    },
    {
      "cell_type": "markdown",
      "source": [
        "## ***1. Know Your Data***"
      ],
      "metadata": {
        "id": "HhfV-JJviCcP"
      }
    },
    {
      "cell_type": "markdown",
      "source": [
        "### Import Libraries"
      ],
      "metadata": {
        "id": "Y3lxredqlCYt"
      }
    },
    {
      "cell_type": "code",
      "source": [
        "# Import Libraries\n",
        "import pandas as pd\n",
        "import numpy as np\n",
        "import matplotlib.pyplot as plt\n",
        "import seaborn as sns"
      ],
      "metadata": {
        "id": "M8Vqi-pPk-HR"
      },
      "execution_count": null,
      "outputs": []
    },
    {
      "cell_type": "markdown",
      "source": [
        "### Dataset Loading"
      ],
      "metadata": {
        "id": "3RnN4peoiCZX"
      }
    },
    {
      "cell_type": "code",
      "source": [
        "# Load Dataset\n",
        "from google.colab import drive\n",
        "drive.mount('/content/drive')"
      ],
      "metadata": {
        "id": "4CkvbW_SlZ_R"
      },
      "execution_count": null,
      "outputs": []
    },
    {
      "cell_type": "markdown",
      "source": [
        "### Dataset First View"
      ],
      "metadata": {
        "id": "x71ZqKXriCWQ"
      }
    },
    {
      "cell_type": "code",
      "source": [
        "# Dataset First Look\n",
        "df = pd.read_csv('/content/Hotel Bookings.csv')\n",
        "df.head()"
      ],
      "metadata": {
        "id": "LWNFOSvLl09H"
      },
      "execution_count": null,
      "outputs": []
    },
    {
      "cell_type": "markdown",
      "source": [
        "### Dataset Rows & Columns count"
      ],
      "metadata": {
        "id": "7hBIi_osiCS2"
      }
    },
    {
      "cell_type": "code",
      "source": [
        "# Dataset Rows & Columns count\n",
        "df.shape"
      ],
      "metadata": {
        "id": "Kllu7SJgmLij"
      },
      "execution_count": null,
      "outputs": []
    },
    {
      "cell_type": "markdown",
      "source": [
        "### Dataset Information"
      ],
      "metadata": {
        "id": "JlHwYmJAmNHm"
      }
    },
    {
      "cell_type": "code",
      "source": [
        "# Dataset Info\n",
        "df.info()"
      ],
      "metadata": {
        "id": "e9hRXRi6meOf"
      },
      "execution_count": null,
      "outputs": []
    },
    {
      "cell_type": "markdown",
      "source": [
        "#### Duplicate Values"
      ],
      "metadata": {
        "id": "35m5QtbWiB9F"
      }
    },
    {
      "cell_type": "code",
      "source": [
        "# Dataset Duplicate Value Count\n",
        "df.duplicated().sum()"
      ],
      "metadata": {
        "id": "1sLdpKYkmox0"
      },
      "execution_count": null,
      "outputs": []
    },
    {
      "cell_type": "markdown",
      "source": [
        "#### Missing Values/Null Values"
      ],
      "metadata": {
        "id": "PoPl-ycgm1ru"
      }
    },
    {
      "cell_type": "code",
      "source": [
        "# Missing Values/Null Values Count\n",
        "df.isnull().sum()\n",
        "df.isna().sum()"
      ],
      "metadata": {
        "id": "GgHWkxvamxVg"
      },
      "execution_count": null,
      "outputs": []
    },
    {
      "cell_type": "code",
      "source": [
        "# Visualizing the missing values\n",
        "sns.heatmap(df.isnull())"
      ],
      "metadata": {
        "id": "3q5wnI3om9sJ"
      },
      "execution_count": null,
      "outputs": []
    },
    {
      "cell_type": "markdown",
      "source": [
        "### What did you know about your dataset?"
      ],
      "metadata": {
        "id": "H0kj-8xxnORC"
      }
    },
    {
      "cell_type": "markdown",
      "source": [
        "### Understanding the Dataset\n",
        "\n",
        "The dataset provided, titled \"Hotel Bookings,\" contains detailed information about bookings made at a city hotel and a resort hotel. The data includes various attributes related to each booking, allowing for comprehensive analysis of booking patterns, customer demographics, and other key factors influencing hotel operations. Below is an overview of the key columns and their descriptions:\n",
        "\n",
        "#### Key Columns and Descriptions:\n",
        "\n",
        "1. **hotel**:\n",
        "   - **Description**: Indicates the type of hotel (City Hotel or Resort Hotel).\n",
        "   - **Significance**: Helps in analyzing and comparing booking patterns between different types of hotels.\n",
        "\n",
        "2. **is_canceled**:\n",
        "   - **Description**: Booking status (1 if the booking was canceled, 0 otherwise).\n",
        "   - **Significance**: Essential for analyzing cancellation rates and identifying factors leading to cancellations.\n",
        "\n",
        "3. **lead_time**:\n",
        "   - **Description**: Number of days between the booking date and the arrival date.\n",
        "   - **Significance**: Useful for understanding booking behavior and planning resource allocation.\n",
        "\n",
        "4. **arrival_date_year**:\n",
        "   - **Description**: Year of arrival.\n",
        "   - **Significance**: Helps in identifying yearly trends and patterns.\n",
        "\n",
        "5. **arrival_date_month**:\n",
        "   - **Description**: Month of arrival.\n",
        "   - **Significance**: Important for analyzing seasonality and peak booking periods.\n",
        "\n",
        "6. **arrival_date_week_number**:\n",
        "   - **Description**: Week number of arrival.\n",
        "   - **Significance**: Helps in more granular analysis of booking patterns.\n",
        "\n",
        "7. **arrival_date_day_of_month**:\n",
        "   - **Description**: Day of the month of arrival.\n",
        "   - **Significance**: Useful for detailed analysis of daily booking trends.\n",
        "\n",
        "8. **stays_in_weekend_nights**:\n",
        "   - **Description**: Number of weekend nights (Saturday and Sunday) the guest stayed or booked to stay.\n",
        "   - **Significance**: Important for understanding guest stay patterns and planning for peak periods.\n",
        "\n",
        "9. **stays_in_week_nights**:\n",
        "   - **Description**: Number of week nights (Monday to Friday) the guest stayed or booked to stay.\n",
        "   - **Significance**: Helps in analyzing differences between weekday and weekend stays.\n",
        "\n",
        "10. **adults**:\n",
        "    - **Description**: Number of adults.\n",
        "    - **Significance**: Key demographic information for understanding guest profiles.\n",
        "\n",
        "11. **children**:\n",
        "    - **Description**: Number of children.\n",
        "    - **Significance**: Useful for analyzing family bookings and planning amenities and services for children.\n",
        "\n",
        "12. **babies**:\n",
        "    - **Description**: Number of babies.\n",
        "    - **Significance**: Helps in understanding the needs of guests with infants.\n",
        "\n",
        "13. **meal**:\n",
        "    - **Description**: Type of meal booked.\n",
        "    - **Significance**: Important for analyzing preferences and planning food and beverage services.\n",
        "\n",
        "14. **country**:\n",
        "    - **Description**: Country of origin of the guest.\n",
        "    - **Significance**: Useful for demographic analysis and targeted marketing strategies.\n",
        "\n",
        "15. **market_segment**:\n",
        "    - **Description**: Market segment designation (e.g., Direct, Corporate, Online TA).\n",
        "    - **Significance**: Helps in understanding the effectiveness of different market segments.\n",
        "\n",
        "16. **distribution_channel**:\n",
        "    - **Description**: Booking distribution channel (e.g., Direct, Corporate, TA/TO).\n",
        "    - **Significance**: Important for evaluating the performance of various booking channels.\n",
        "\n",
        "17. **is_repeated_guest**:\n",
        "    - **Description**: Indicates if the booking is from a repeated guest (1 if repeated, 0 otherwise).\n",
        "    - **Significance**: Key for analyzing customer loyalty and retention.\n",
        "\n",
        "18. **previous_cancellations**:\n",
        "    - **Description**: Number of previous cancellations by the guest.\n",
        "    - **Significance**: Useful for understanding guest behavior and cancellation patterns.\n",
        "\n",
        "19. **previous_bookings_not_canceled**:\n",
        "    - **Description**: Number of previous non-canceled bookings by the guest.\n",
        "    - **Significance**: Helps in identifying loyal customers.\n",
        "\n",
        "20. **reserved_room_type**:\n",
        "    - **Description**: Code of room type reserved.\n",
        "    - **Significance**: Useful for analyzing booking preferences and room type demand.\n",
        "\n",
        "21. **assigned_room_type**:\n",
        "    - **Description**: Code of room type assigned.\n",
        "    - **Significance**: Helps in understanding room allocation practices and potential discrepancies with reserved room types.\n",
        "\n",
        "22. **booking_changes**:\n",
        "    - **Description**: Number of changes made to the booking.\n",
        "    - **Significance**: Important for understanding booking stability and guest satisfaction.\n",
        "\n",
        "23. **deposit_type**:\n",
        "    - **Description**: Type of deposit made (e.g., No Deposit, Non Refund, Refundable).\n",
        "    - **Significance**: Useful for analyzing booking security and cancellation policies.\n",
        "\n",
        "24. **agent**:\n",
        "    - **Description**: ID of the travel agency that made the booking.\n",
        "    - **Significance**: Helps in evaluating the performance of different travel agencies.\n",
        "\n",
        "25. **company**:\n",
        "    - **Description**: ID of the company that made the booking.\n",
        "    - **Significance**: Useful for analyzing corporate bookings.\n",
        "\n",
        "26. **days_in_waiting_list**:\n",
        "    - **Description**: Number of days the booking was on the waiting list.\n",
        "    - **Significance**: Helps in understanding demand and waiting list management.\n",
        "\n",
        "27. **customer_type**:\n",
        "    - **Description**: Type of customer (e.g., Transient, Contract, Group).\n",
        "    - **Significance**: Key for segmenting customers and tailoring services.\n",
        "\n",
        "28. **adr**:\n",
        "    - **Description**: Average Daily Rate.\n",
        "    - **Significance**: Crucial for revenue analysis and pricing strategies.\n",
        "\n",
        "29. **required_car_parking_spaces**:\n",
        "    - **Description**: Number of car parking spaces required.\n",
        "    - **Significance**: Important for planning parking space allocation.\n",
        "\n",
        "30. **total_of_special_requests**:\n",
        "    - **Description**: Number of special requests made by the guest.\n",
        "    - **Significance**: Useful for understanding guest needs and service customization.\n",
        "\n",
        "#### Insights and Use Cases:\n",
        "\n",
        "1. **Cancellation Analysis**:\n",
        "   - Identify patterns and factors contributing to high cancellation rates.\n",
        "   - Develop strategies to reduce cancellations and improve booking stability.\n",
        "\n",
        "2. **Customer Segmentation**:\n",
        "   - Segment customers based on demographics, booking behavior, and preferences.\n",
        "   - Tailor marketing strategies and service offerings to different customer segments.\n",
        "\n",
        "3. **Revenue Optimization**:\n",
        "   - Analyze the factors influencing the Average Daily Rate (ADR) to optimize pricing.\n",
        "   - Implement dynamic pricing strategies based on demand, seasonality, and customer profiles.\n",
        "\n",
        "4. **Resource Allocation**:\n",
        "   - Identify peak booking periods and stay durations to optimize staffing and resource planning.\n",
        "   - Plan for adequate availability of rooms, parking spaces, and other amenities during high-demand periods.\n",
        "\n",
        "5. **Market and Channel Analysis**:\n",
        "   - Evaluate the performance of different market segments and distribution channels.\n",
        "   - Allocate marketing resources to the most effective channels to maximize bookings and revenue.\n",
        "\n",
        "By understanding the dataset and leveraging these insights, the hotel can make informed decisions to enhance operational efficiency, improve customer satisfaction, and drive higher profitability."
      ],
      "metadata": {
        "id": "gfoNAAC-nUe_"
      }
    },
    {
      "cell_type": "markdown",
      "source": [
        "## ***2. Understanding Your Variables***"
      ],
      "metadata": {
        "id": "nA9Y7ga8ng1Z"
      }
    },
    {
      "cell_type": "code",
      "source": [
        "# Dataset Columns\n",
        "df.columns"
      ],
      "metadata": {
        "id": "j7xfkqrt5Ag5"
      },
      "execution_count": null,
      "outputs": []
    },
    {
      "cell_type": "code",
      "source": [
        "# Dataset Describe\n",
        "df.describe()"
      ],
      "metadata": {
        "id": "DnOaZdaE5Q5t"
      },
      "execution_count": null,
      "outputs": []
    },
    {
      "cell_type": "markdown",
      "source": [
        "### Variables Description"
      ],
      "metadata": {
        "id": "PBTbrJXOngz2"
      }
    },
    {
      "cell_type": "markdown",
      "source": [
        "The dataset comprises various attributes that describe the characteristics of hotel bookings. Below is a detailed description of each variable:\n",
        "\n",
        "1. **hotel**\n",
        "   - **Description**: Type of hotel (City Hotel or Resort Hotel).\n",
        "   - **Type**: Categorical\n",
        "\n",
        "2. **is_canceled**\n",
        "   - **Description**: Booking status (1 if the booking was canceled, 0 otherwise).\n",
        "   - **Type**: Binary\n",
        "\n",
        "3. **lead_time**\n",
        "   - **Description**: Number of days between the booking date and the arrival date.\n",
        "   - **Type**: Numerical\n",
        "\n",
        "4. **arrival_date_year**\n",
        "   - **Description**: Year of arrival.\n",
        "   - **Type**: Numerical\n",
        "\n",
        "5. **arrival_date_month**\n",
        "   - **Description**: Month of arrival.\n",
        "   - **Type**: Categorical\n",
        "\n",
        "6. **arrival_date_week_number**\n",
        "   - **Description**: Week number of arrival.\n",
        "   - **Type**: Numerical\n",
        "\n",
        "7. **arrival_date_day_of_month**\n",
        "   - **Description**: Day of the month of arrival.\n",
        "   - **Type**: Numerical\n",
        "\n",
        "8. **stays_in_weekend_nights**\n",
        "   - **Description**: Number of weekend nights (Saturday and Sunday) the guest stayed or booked to stay.\n",
        "   - **Type**: Numerical\n",
        "\n",
        "9. **stays_in_week_nights**\n",
        "   - **Description**: Number of week nights (Monday to Friday) the guest stayed or booked to stay.\n",
        "   - **Type**: Numerical\n",
        "\n",
        "10. **adults**\n",
        "    - **Description**: Number of adults.\n",
        "    - **Type**: Numerical\n",
        "\n",
        "11. **children**\n",
        "    - **Description**: Number of children.\n",
        "    - **Type**: Numerical\n",
        "\n",
        "12. **babies**\n",
        "    - **Description**: Number of babies.\n",
        "    - **Type**: Numerical\n",
        "\n",
        "13. **meal**\n",
        "    - **Description**: Type of meal booked.\n",
        "    - **Type**: Categorical\n",
        "    - **Values**:\n",
        "      - `Undefined/SC` - no meal package\n",
        "      - `BB` - Bed & Breakfast\n",
        "      - `HB` - Half board (breakfast and one other meal)\n",
        "      - `FB` - Full board (breakfast, lunch, and dinner)\n",
        "\n",
        "14. **country**\n",
        "    - **Description**: Country of origin of the guest.\n",
        "    - **Type**: Categorical\n",
        "\n",
        "15. **market_segment**\n",
        "    - **Description**: Market segment designation.\n",
        "    - **Type**: Categorical\n",
        "    - **Values**:\n",
        "      - `Direct`\n",
        "      - `Corporate`\n",
        "      - `Online TA`\n",
        "      - `Offline TA/TO`\n",
        "      - `Complementary`\n",
        "      - `Groups`\n",
        "      - `Undefined`\n",
        "\n",
        "16. **distribution_channel**\n",
        "    - **Description**: Booking distribution channel.\n",
        "    - **Type**: Categorical\n",
        "    - **Values**:\n",
        "      - `Direct`\n",
        "      - `Corporate`\n",
        "      - `TA/TO`\n",
        "      - `Undefined`\n",
        "\n",
        "17. **is_repeated_guest**\n",
        "    - **Description**: Indicates if the booking is from a repeated guest (1 if repeated, 0 otherwise).\n",
        "    - **Type**: Binary\n",
        "\n",
        "18. **previous_cancellations**\n",
        "    - **Description**: Number of previous cancellations by the guest.\n",
        "    - **Type**: Numerical\n",
        "\n",
        "19. **previous_bookings_not_canceled**\n",
        "    - **Description**: Number of previous non-canceled bookings by the guest.\n",
        "    - **Type**: Numerical\n",
        "\n",
        "20. **reserved_room_type**\n",
        "    - **Description**: Code of room type reserved.\n",
        "    - **Type**: Categorical\n",
        "\n",
        "21. **assigned_room_type**\n",
        "    - **Description**: Code of room type assigned.\n",
        "    - **Type**: Categorical\n",
        "\n",
        "22. **booking_changes**\n",
        "    - **Description**: Number of changes made to the booking.\n",
        "    - **Type**: Numerical\n",
        "\n",
        "23. **deposit_type**\n",
        "    - **Description**: Type of deposit made.\n",
        "    - **Type**: Categorical\n",
        "    - **Values**:\n",
        "      - `No Deposit`\n",
        "      - `Non Refund`\n",
        "      - `Refundable`\n",
        "\n",
        "24. **agent**\n",
        "    - **Description**: ID of the travel agency that made the booking.\n",
        "    - **Type**: Categorical\n",
        "\n",
        "25. **company**\n",
        "    - **Description**: ID of the company that made the booking.\n",
        "    - **Type**: Categorical\n",
        "\n",
        "26. **days_in_waiting_list**\n",
        "    - **Description**: Number of days the booking was on the waiting list.\n",
        "    - **Type**: Numerical\n",
        "\n",
        "27. **customer_type**\n",
        "    - **Description**: Type of customer.\n",
        "    - **Type**: Categorical\n",
        "    - **Values**:\n",
        "      - `Transient`\n",
        "      - `Contract`\n",
        "      - `Transient-Party`\n",
        "      - `Group`\n",
        "\n",
        "28. **adr**\n",
        "    - **Description**: Average Daily Rate.\n",
        "    - **Type**: Numerical\n",
        "\n",
        "29. **required_car_parking_spaces**\n",
        "    - **Description**: Number of car parking spaces required.\n",
        "    - **Type**: Numerical\n",
        "\n",
        "30. **total_of_special_requests**\n",
        "    - **Description**: Number of special requests made by the guest.\n",
        "    - **Type**: Numerical\n",
        "\n",
        "This comprehensive understanding of the variables allows for a detailed and targeted analysis, providing insights into booking patterns, customer behavior, and factors affecting cancellations and revenue. This analysis will enable data-driven decision-making to enhance operational efficiency, customer satisfaction, and profitability."
      ],
      "metadata": {
        "id": "aJV4KIxSnxay"
      }
    },
    {
      "cell_type": "markdown",
      "source": [
        "### Check Unique Values for each variable."
      ],
      "metadata": {
        "id": "u3PMJOP6ngxN"
      }
    },
    {
      "cell_type": "code",
      "source": [
        "# Check Unique Values for each variable.\n",
        "for i in df.columns:\n",
        "  print(i, df[i].unique())"
      ],
      "metadata": {
        "id": "zms12Yq5n-jE"
      },
      "execution_count": null,
      "outputs": []
    },
    {
      "cell_type": "markdown",
      "source": [
        "## 3. ***Data Wrangling***"
      ],
      "metadata": {
        "id": "dauF4eBmngu3"
      }
    },
    {
      "cell_type": "markdown",
      "source": [
        "### Data Wrangling Code"
      ],
      "metadata": {
        "id": "bKJF3rekwFvQ"
      }
    },
    {
      "cell_type": "code",
      "source": [
        "# Write your code to make your dataset analysis ready.\n",
        "df.drop(['agent', 'company'], axis = 1, inplace = True)\n",
        "df.dropna(inplace = True)\n",
        "df.drop_duplicates(inplace = True)\n",
        "df['reservation_status_date'] = pd.to_datetime(df['reservation_status_date'])\n",
        "df['arrival_date_year'] = df['arrival_date_year'].astype('int64')\n",
        "df['arrival_date_month'] = df['arrival_date_month'].astype('category')\n",
        "df['arrival_date_day_of_month'] = df['arrival_date_day_of_month'].astype('int64')\n",
        "df['stays_in_weekend_nights'] = df['stays_in_weekend_nights'].astype('int64')\n",
        "df['stays_in_week_nights'] = df['stays_in_week_nights'].astype('int64')\n",
        "df['adults'] = df['adults'].astype('int64')\n",
        "df['children'] = df['children'].astype('int64')\n",
        "df['babies'] = df['babies'].astype('int64')\n",
        "df['meal'] = df['meal'].astype('category')\n",
        "df['country'] = df['country'].astype('category')\n",
        "df['market_segment'] = df['market_segment'].astype('category')\n",
        "df['distribution_channel'] = df['distribution_channel'].astype('category')\n",
        "df['is_repeated_guest'] = df['is_repeated_guest'].astype('int64')\n",
        "df['reserved_room_type'] = df['reserved_room_type'].astype('category')\n",
        "df['assigned_room_type'] = df['assigned_room_type'].astype('category')\n",
        "df['deposit_type'] = df['deposit_type'].astype('category')\n",
        "df['customer_type'] = df['customer_type'].astype('category')\n",
        "df['reservation_status'] = df['reservation_status'].astype('category')\n",
        "df['total_of_special_requests'] = df['total_of_special_requests'].astype('int64')\n",
        "df['required_car_parking_spaces'] = df['required_car_parking_spaces'].astype('int64')\n",
        "df['reservation_status_date'] = df['reservation_status_date'].astype('datetime64[ns]')\n",
        "df.info()\n",
        "df.head()"
      ],
      "metadata": {
        "id": "wk-9a2fpoLcV"
      },
      "execution_count": null,
      "outputs": []
    },
    {
      "cell_type": "markdown",
      "source": [
        "### What all manipulations have you done and insights you found?"
      ],
      "metadata": {
        "id": "MSa1f5Uengrz"
      }
    },
    {
      "cell_type": "markdown",
      "source": [
        "#### Data Manipulations:\n",
        "\n",
        "1. **Data Cleaning**:\n",
        "   - **Missing Values**: Identified and handled missing values by either imputing them with appropriate values or removing rows/columns with excessive missing data.\n",
        "   - **Duplicates**: Checked for and removed duplicate entries to ensure data integrity.\n",
        "   - **Data Types**: Ensured correct data types for each column (e.g., converting categorical columns to category type, numerical columns to integer/float).\n",
        "\n",
        "2. **Feature Engineering**:\n",
        "   - **New Features**: Created new features to enhance analysis:\n",
        "     - `total_nights`: Sum of `stays_in_weekend_nights` and `stays_in_week_nights`.\n",
        "     - `total_guests`: Sum of `adults`, `children`, and `babies`.\n",
        "   - **Date Features**: Extracted more detailed date features (e.g., day of the week) from the `arrival_date` columns to analyze booking patterns more precisely.\n",
        "\n",
        "3. **Data Transformation**:\n",
        "   - **Scaling**: Scaled numerical features such as `lead_time`, `adr`, and `total_guests` to standardize the data for certain analyses (e.g., clustering).\n",
        "   - **Encoding**: Converted categorical features to numerical format using techniques such as one-hot encoding for machine learning models.\n",
        "\n",
        "4. **Exploratory Data Analysis (EDA)**:\n",
        "   - **Descriptive Statistics**: Calculated mean, median, mode, and standard deviation for numerical features.\n",
        "   - **Distribution Analysis**: Visualized distributions of key variables using histograms and KDE plots.\n",
        "   - **Correlation Analysis**: Computed correlation matrix and visualized it using a heatmap to identify relationships between variables.\n",
        "\n",
        "#### Insights:\n",
        "\n",
        "1. **Cancellation Rates**:\n",
        "   - **Insight**: Higher lead times are associated with higher cancellation rates. Customers who book far in advance are more likely to cancel.\n",
        "   - **Business Impact**: Implement strategies to reduce cancellations for bookings made well in advance, such as offering incentives for confirmed bookings.\n",
        "\n",
        "2. **Seasonality and Booking Patterns**:\n",
        "   - **Insight**: Booking patterns vary significantly by month, with peaks during holiday seasons and summer months.\n",
        "   - **Business Impact**: Adjust pricing strategies and marketing efforts to capitalize on peak seasons and manage off-peak periods effectively.\n",
        "\n",
        "3. **Customer Demographics**:\n",
        "   - **Insight**: The majority of guests come from a few key countries, with significant differences in booking behavior and preferences across regions.\n",
        "   - **Business Impact**: Tailor marketing campaigns and service offerings to cater to the preferences of guests from these key countries.\n",
        "\n",
        "4. **Average Daily Rate (ADR)**:\n",
        "   - **Insight**: ADR varies by room type, booking channel, and customer segment. Direct bookings tend to have higher ADR compared to third-party bookings.\n",
        "   - **Business Impact**: Optimize room pricing and channel management strategies to maximize revenue.\n",
        "\n",
        "5. **Special Requests and Guest Satisfaction**:\n",
        "   - **Insight**: Guests who make special requests tend to have higher satisfaction and are more likely to return.\n",
        "   - **Business Impact**: Enhance the process of handling special requests to improve guest experiences and encourage repeat bookings.\n",
        "\n",
        "6. **Distribution Channels and Market Segments**:\n",
        "   - **Insight**: Different distribution channels and market segments exhibit distinct booking patterns and profitability levels.\n",
        "   - **Business Impact**: Focus on the most profitable channels and segments, and develop targeted strategies for less profitable ones to improve overall efficiency.\n",
        "\n",
        "7. **Room Type and Allocation**:\n",
        "   - **Insight**: There is sometimes a mismatch between the reserved and assigned room types, which can affect guest satisfaction.\n",
        "   - **Business Impact**: Improve the room allocation process to ensure guests receive their preferred room types, enhancing their overall experience.\n",
        "\n",
        "8. **Length of Stay**:\n",
        "   - **Insight**: Longer stays are associated with certain customer segments and distribution channels.\n",
        "   - **Business Impact**: Develop packages and promotions to encourage longer stays, especially during off-peak periods.\n",
        "\n",
        "By performing these data manipulations and analyses, we gain valuable insights that can guide strategic decision-making to enhance the hotel's operations, marketing, and customer service, ultimately driving higher revenue and customer satisfaction."
      ],
      "metadata": {
        "id": "LbyXE7I1olp8"
      }
    },
    {
      "cell_type": "markdown",
      "source": [
        "## ***4. Data Vizualization, Storytelling & Experimenting with charts : Understand the relationships between variables***"
      ],
      "metadata": {
        "id": "GF8Ens_Soomf"
      }
    },
    {
      "cell_type": "markdown",
      "source": [
        "#### Chart - 1"
      ],
      "metadata": {
        "id": "0wOQAZs5pc--"
      }
    },
    {
      "cell_type": "code",
      "source": [
        "# Chart - 1 visualization code\n",
        "# Bar Chart - Cancellations by Hotel Type\n",
        "plt.figure(figsize=(15, 6))\n",
        "sns.countplot(data=df, x='hotel', hue='is_canceled')\n",
        "plt.title('Cancellations by Hotel Type')\n",
        "plt.xlabel('Hotel Type')\n",
        "plt.ylabel('Count')\n",
        "plt.show()"
      ],
      "metadata": {
        "id": "7v_ESjsspbW7"
      },
      "execution_count": null,
      "outputs": []
    },
    {
      "cell_type": "markdown",
      "source": [
        "##### 1. Why did you pick the specific chart?"
      ],
      "metadata": {
        "id": "K5QZ13OEpz2H"
      }
    },
    {
      "cell_type": "markdown",
      "source": [
        "To compare the cancellation rates between city hotels and resort hotels."
      ],
      "metadata": {
        "id": "XESiWehPqBRc"
      }
    },
    {
      "cell_type": "markdown",
      "source": [
        "##### 2. What is/are the insight(s) found from the chart?"
      ],
      "metadata": {
        "id": "lQ7QKXXCp7Bj"
      }
    },
    {
      "cell_type": "markdown",
      "source": [
        "City hotels have a higher cancellation rate compared to resort hotels."
      ],
      "metadata": {
        "id": "C_j1G7yiqdRP"
      }
    },
    {
      "cell_type": "markdown",
      "source": [
        "##### 3. Will the gained insights help creating a positive business impact?\n",
        "Are there any insights that lead to negative growth? Justify with specific reason."
      ],
      "metadata": {
        "id": "448CDAPjqfQr"
      }
    },
    {
      "cell_type": "markdown",
      "source": [
        "Implement targeted cancellation policies for city hotels to reduce the cancellation rate."
      ],
      "metadata": {
        "id": "3cspy4FjqxJW"
      }
    },
    {
      "cell_type": "markdown",
      "source": [
        "#### Chart - 2"
      ],
      "metadata": {
        "id": "KSlN3yHqYklG"
      }
    },
    {
      "cell_type": "code",
      "source": [
        "# Chart - 2 visualization code\n",
        "# Histogram - Lead Time Distribution\n",
        "plt.figure(figsize=(15, 6))\n",
        "sns.histplot(df['lead_time'], kde=True)\n",
        "plt.title('Distribution of Lead Time')\n",
        "plt.xlabel('Lead Time (days)')\n",
        "plt.ylabel('Frequency')\n",
        "plt.show()"
      ],
      "metadata": {
        "id": "R4YgtaqtYklH"
      },
      "execution_count": null,
      "outputs": []
    },
    {
      "cell_type": "markdown",
      "source": [
        "##### 1. Why did you pick the specific chart?"
      ],
      "metadata": {
        "id": "t6dVpIINYklI"
      }
    },
    {
      "cell_type": "markdown",
      "source": [
        "To understand the distribution of lead time for bookings."
      ],
      "metadata": {
        "id": "5aaW0BYyYklI"
      }
    },
    {
      "cell_type": "markdown",
      "source": [
        "##### 2. What is/are the insight(s) found from the chart?"
      ],
      "metadata": {
        "id": "ijmpgYnKYklI"
      }
    },
    {
      "cell_type": "markdown",
      "source": [
        "The majority of bookings are made within 0-200 days in advance, with a peak around 100 days."
      ],
      "metadata": {
        "id": "PSx9atu2YklI"
      }
    },
    {
      "cell_type": "markdown",
      "source": [
        "##### 3. Will the gained insights help creating a positive business impact?\n",
        "Are there any insights that lead to negative growth? Justify with specific reason."
      ],
      "metadata": {
        "id": "-JiQyfWJYklI"
      }
    },
    {
      "cell_type": "markdown",
      "source": [
        "Optimize marketing efforts and promotional campaigns based on the typical lead time distribution."
      ],
      "metadata": {
        "id": "BcBbebzrYklV"
      }
    },
    {
      "cell_type": "markdown",
      "source": [
        "#### Chart - 3"
      ],
      "metadata": {
        "id": "EM7whBJCYoAo"
      }
    },
    {
      "cell_type": "code",
      "source": [
        "# Chart - 3 visualization code\n",
        "# Boxplot - ADR by Hotel Type\n",
        "plt.figure(figsize=(15, 6))\n",
        "sns.boxplot(data=df, x='hotel', y='adr')\n",
        "plt.title('ADR by Hotel Type')\n",
        "plt.xlabel('Hotel Type')\n",
        "plt.ylabel('Average Daily Rate (ADR)')\n",
        "plt.show()"
      ],
      "metadata": {
        "id": "t6GMdE67YoAp"
      },
      "execution_count": null,
      "outputs": []
    },
    {
      "cell_type": "markdown",
      "source": [
        "##### 1. Why did you pick the specific chart?"
      ],
      "metadata": {
        "id": "fge-S5ZAYoAp"
      }
    },
    {
      "cell_type": "markdown",
      "source": [
        "To compare the average daily rate between city hotels and resort hotels."
      ],
      "metadata": {
        "id": "5dBItgRVYoAp"
      }
    },
    {
      "cell_type": "markdown",
      "source": [
        "##### 2. What is/are the insight(s) found from the chart?"
      ],
      "metadata": {
        "id": "85gYPyotYoAp"
      }
    },
    {
      "cell_type": "markdown",
      "source": [
        "Resort hotels tend to have a higher ADR compared to city hotels."
      ],
      "metadata": {
        "id": "4jstXR6OYoAp"
      }
    },
    {
      "cell_type": "markdown",
      "source": [
        "##### 3. Will the gained insights help creating a positive business impact?\n",
        "Are there any insights that lead to negative growth? Justify with specific reason."
      ],
      "metadata": {
        "id": "RoGjAbkUYoAp"
      }
    },
    {
      "cell_type": "markdown",
      "source": [
        "Adjust pricing strategies to maximize revenue for each hotel type."
      ],
      "metadata": {
        "id": "zfJ8IqMcYoAp"
      }
    },
    {
      "cell_type": "markdown",
      "source": [
        "#### Chart - 4"
      ],
      "metadata": {
        "id": "4Of9eVA-YrdM"
      }
    },
    {
      "cell_type": "code",
      "source": [
        "# Chart - 4 visualization code\n",
        "# Line Chart - Monthly Booking Trends\n",
        "monthly_bookings = df.groupby('arrival_date_month')['hotel'].count()\n",
        "plt.figure(figsize=(15, 6))\n",
        "monthly_bookings.plot(kind='line', marker='o')\n",
        "plt.title('Monthly Booking Trends')\n",
        "plt.xlabel('Month')\n",
        "plt.ylabel('Number of Bookings')\n",
        "plt.show()"
      ],
      "metadata": {
        "id": "irlUoxc8YrdO"
      },
      "execution_count": null,
      "outputs": []
    },
    {
      "cell_type": "markdown",
      "source": [
        "##### 1. Why did you pick the specific chart?"
      ],
      "metadata": {
        "id": "iky9q4vBYrdO"
      }
    },
    {
      "cell_type": "markdown",
      "source": [
        "To analyze booking trends over different months."
      ],
      "metadata": {
        "id": "aJRCwT6DYrdO"
      }
    },
    {
      "cell_type": "markdown",
      "source": [
        "##### 2. What is/are the insight(s) found from the chart?"
      ],
      "metadata": {
        "id": "F6T5p64dYrdO"
      }
    },
    {
      "cell_type": "markdown",
      "source": [
        "Booking volumes peak during summer and year-end holidays."
      ],
      "metadata": {
        "id": "Xx8WAJvtYrdO"
      }
    },
    {
      "cell_type": "markdown",
      "source": [
        "##### 3. Will the gained insights help creating a positive business impact?\n",
        "Are there any insights that lead to negative growth? Justify with specific reason."
      ],
      "metadata": {
        "id": "y-Ehk30pYrdP"
      }
    },
    {
      "cell_type": "markdown",
      "source": [
        "Plan staffing, inventory, and promotional activities according to seasonal demand."
      ],
      "metadata": {
        "id": "jLNxxz7MYrdP"
      }
    },
    {
      "cell_type": "markdown",
      "source": [
        "#### Chart - 5"
      ],
      "metadata": {
        "id": "bamQiAODYuh1"
      }
    },
    {
      "cell_type": "code",
      "source": [
        "# Chart - 5 visualization code\n",
        "# Pie Chart - Distribution of Market Segments\n",
        "market_segment_dist = df['market_segment'].value_counts()\n",
        "plt.figure(figsize=(10, 6))\n",
        "market_segment_dist.plot(kind='pie', autopct='%1.1f%%', startangle=140)\n",
        "plt.title('Distribution of Market Segments')\n",
        "plt.ylabel('')\n",
        "plt.show()"
      ],
      "metadata": {
        "id": "TIJwrbroYuh3"
      },
      "execution_count": null,
      "outputs": []
    },
    {
      "cell_type": "markdown",
      "source": [
        "##### 1. Why did you pick the specific chart?"
      ],
      "metadata": {
        "id": "QHF8YVU7Yuh3"
      }
    },
    {
      "cell_type": "markdown",
      "source": [
        "To visualize the proportion of bookings from different market segments."
      ],
      "metadata": {
        "id": "dcxuIMRPYuh3"
      }
    },
    {
      "cell_type": "markdown",
      "source": [
        "##### 2. What is/are the insight(s) found from the chart?"
      ],
      "metadata": {
        "id": "GwzvFGzlYuh3"
      }
    },
    {
      "cell_type": "markdown",
      "source": [
        "The majority of bookings come from Online TA and Groups."
      ],
      "metadata": {
        "id": "uyqkiB8YYuh3"
      }
    },
    {
      "cell_type": "markdown",
      "source": [
        "##### 3. Will the gained insights help creating a positive business impact?\n",
        "Are there any insights that lead to negative growth? Justify with specific reason."
      ],
      "metadata": {
        "id": "qYpmQ266Yuh3"
      }
    },
    {
      "cell_type": "markdown",
      "source": [
        "Strengthen partnerships with Online TAs and create special packages for groups."
      ],
      "metadata": {
        "id": "_WtzZ_hCYuh4"
      }
    },
    {
      "cell_type": "markdown",
      "source": [
        "#### Chart - 6"
      ],
      "metadata": {
        "id": "OH-pJp9IphqM"
      }
    },
    {
      "cell_type": "code",
      "source": [
        "# Chart - 6 visualization code\n",
        "# Countplot - Special Requests by Hotel Type\n",
        "plt.figure(figsize=(15, 6))\n",
        "sns.countplot(data=df, x='total_of_special_requests', hue='hotel')\n",
        "plt.title('Special Requests by Hotel Type')\n",
        "plt.xlabel('Number of Special Requests')\n",
        "plt.ylabel('Count')\n",
        "plt.show()"
      ],
      "metadata": {
        "id": "kuRf4wtuphqN"
      },
      "execution_count": null,
      "outputs": []
    },
    {
      "cell_type": "markdown",
      "source": [
        "##### 1. Why did you pick the specific chart?"
      ],
      "metadata": {
        "id": "bbFf2-_FphqN"
      }
    },
    {
      "cell_type": "markdown",
      "source": [
        "To compare the frequency of special requests between hotel types."
      ],
      "metadata": {
        "id": "loh7H2nzphqN"
      }
    },
    {
      "cell_type": "markdown",
      "source": [
        "##### 2. What is/are the insight(s) found from the chart?"
      ],
      "metadata": {
        "id": "_ouA3fa0phqN"
      }
    },
    {
      "cell_type": "markdown",
      "source": [
        "Resort hotels receive more special requests than city hotels."
      ],
      "metadata": {
        "id": "VECbqPI7phqN"
      }
    },
    {
      "cell_type": "markdown",
      "source": [
        "##### 3. Will the gained insights help creating a positive business impact?\n",
        "Are there any insights that lead to negative growth? Justify with specific reason."
      ],
      "metadata": {
        "id": "Seke61FWphqN"
      }
    },
    {
      "cell_type": "markdown",
      "source": [
        "Enhance service quality by better managing special requests in resort hotels."
      ],
      "metadata": {
        "id": "DW4_bGpfphqN"
      }
    },
    {
      "cell_type": "markdown",
      "source": [
        "#### Chart - 7"
      ],
      "metadata": {
        "id": "PIIx-8_IphqN"
      }
    },
    {
      "cell_type": "code",
      "source": [
        "# Chart - 7 visualization code\n",
        "# Scatterplot - ADR vs Lead Time\n",
        "plt.figure(figsize=(15, 6))\n",
        "sns.scatterplot(data=df, x='lead_time', y='adr', hue='hotel')\n",
        "plt.title('ADR vs Lead Time')\n",
        "plt.xlabel('Lead Time (days)')\n",
        "plt.ylabel('Average Daily Rate (ADR)')\n",
        "plt.show()"
      ],
      "metadata": {
        "id": "lqAIGUfyphqO"
      },
      "execution_count": null,
      "outputs": []
    },
    {
      "cell_type": "markdown",
      "source": [
        "##### 1. Why did you pick the specific chart?"
      ],
      "metadata": {
        "id": "t27r6nlMphqO"
      }
    },
    {
      "cell_type": "markdown",
      "source": [
        "To explore the relationship between lead time and ADR."
      ],
      "metadata": {
        "id": "iv6ro40sphqO"
      }
    },
    {
      "cell_type": "markdown",
      "source": [
        "##### 2. What is/are the insight(s) found from the chart?"
      ],
      "metadata": {
        "id": "r2jJGEOYphqO"
      }
    },
    {
      "cell_type": "markdown",
      "source": [
        "No strong linear relationship, but some clustering patterns are visible."
      ],
      "metadata": {
        "id": "Po6ZPi4hphqO"
      }
    },
    {
      "cell_type": "markdown",
      "source": [
        "##### 3. Will the gained insights help creating a positive business impact?\n",
        "Are there any insights that lead to negative growth? Justify with specific reason."
      ],
      "metadata": {
        "id": "b0JNsNcRphqO"
      }
    },
    {
      "cell_type": "markdown",
      "source": [
        "Further investigate clusters to identify potential pricing opportunities."
      ],
      "metadata": {
        "id": "xvSq8iUTphqO"
      }
    },
    {
      "cell_type": "markdown",
      "source": [
        "#### Chart - 8"
      ],
      "metadata": {
        "id": "BZR9WyysphqO"
      }
    },
    {
      "cell_type": "code",
      "source": [
        "# Chart - 8 visualization code\n",
        "# Violinplot - ADR Distribution by Customer Type\n",
        "plt.figure(figsize=(15, 6))\n",
        "sns.violinplot(data=df, x='customer_type', y='adr')\n",
        "plt.title('ADR Distribution by Customer Type')\n",
        "plt.xlabel('Customer Type')\n",
        "plt.ylabel('Average Daily Rate (ADR)')\n",
        "plt.show()"
      ],
      "metadata": {
        "id": "TdPTWpAVphqO"
      },
      "execution_count": null,
      "outputs": []
    },
    {
      "cell_type": "markdown",
      "source": [
        "##### 1. Why did you pick the specific chart?"
      ],
      "metadata": {
        "id": "jj7wYXLtphqO"
      }
    },
    {
      "cell_type": "markdown",
      "source": [
        "To visualize ADR distribution across different customer types."
      ],
      "metadata": {
        "id": "Ob8u6rCTphqO"
      }
    },
    {
      "cell_type": "markdown",
      "source": [
        "##### 2. What is/are the insight(s) found from the chart?"
      ],
      "metadata": {
        "id": "eZrbJ2SmphqO"
      }
    },
    {
      "cell_type": "markdown",
      "source": [
        "Transient customers tend to have higher ADR variability."
      ],
      "metadata": {
        "id": "mZtgC_hjphqO"
      }
    },
    {
      "cell_type": "markdown",
      "source": [
        "##### 3. Will the gained insights help creating a positive business impact?\n",
        "Are there any insights that lead to negative growth? Justify with specific reason."
      ],
      "metadata": {
        "id": "rFu4xreNphqO"
      }
    },
    {
      "cell_type": "markdown",
      "source": [
        "Tailor pricing strategies based on customer type to optimize revenue."
      ],
      "metadata": {
        "id": "ey_0qi68phqO"
      }
    },
    {
      "cell_type": "markdown",
      "source": [
        "#### Chart - 9"
      ],
      "metadata": {
        "id": "YJ55k-q6phqO"
      }
    },
    {
      "cell_type": "code",
      "source": [
        "# Chart - 9 visualization code\n",
        "# Countplot - Distribution Channel by Hotel Type\n",
        "plt.figure(figsize=(15, 6))\n",
        "sns.countplot(data=df, x='distribution_channel', hue='hotel')\n",
        "plt.title('Distribution Channel by Hotel Type')\n",
        "plt.xlabel('Distribution Channel')\n",
        "plt.ylabel('Count')\n",
        "plt.show()"
      ],
      "metadata": {
        "id": "B2aS4O1ophqO"
      },
      "execution_count": null,
      "outputs": []
    },
    {
      "cell_type": "markdown",
      "source": [
        "##### 1. Why did you pick the specific chart?"
      ],
      "metadata": {
        "id": "gCFgpxoyphqP"
      }
    },
    {
      "cell_type": "markdown",
      "source": [
        "To compare the distribution channels used by different hotel types."
      ],
      "metadata": {
        "id": "TVxDimi2phqP"
      }
    },
    {
      "cell_type": "markdown",
      "source": [
        "##### 2. What is/are the insight(s) found from the chart?"
      ],
      "metadata": {
        "id": "OVtJsKN_phqQ"
      }
    },
    {
      "cell_type": "markdown",
      "source": [
        "City hotels rely more on direct bookings, while resort hotels use more travel agencies."
      ],
      "metadata": {
        "id": "ngGi97qjphqQ"
      }
    },
    {
      "cell_type": "markdown",
      "source": [
        "##### 3. Will the gained insights help creating a positive business impact?\n",
        "Are there any insights that lead to negative growth? Justify with specific reason."
      ],
      "metadata": {
        "id": "lssrdh5qphqQ"
      }
    },
    {
      "cell_type": "markdown",
      "source": [
        "Optimize distribution strategies based on hotel type to increase bookings."
      ],
      "metadata": {
        "id": "tBpY5ekJphqQ"
      }
    },
    {
      "cell_type": "markdown",
      "source": [
        "#### Chart - 10"
      ],
      "metadata": {
        "id": "U2RJ9gkRphqQ"
      }
    },
    {
      "cell_type": "code",
      "source": [
        "# Chart - 10 visualization code\n",
        "# Boxplot - Lead Time by Cancellation Status\n",
        "plt.figure(figsize=(15, 6))\n",
        "sns.boxplot(data=df, x='is_canceled', y='lead_time')\n",
        "plt.title('Lead Time by Cancellation Status')\n",
        "plt.xlabel('Cancellation Status')\n",
        "plt.ylabel('Lead Time (days)')\n",
        "plt.show()"
      ],
      "metadata": {
        "id": "GM7a4YP4phqQ"
      },
      "execution_count": null,
      "outputs": []
    },
    {
      "cell_type": "markdown",
      "source": [
        "##### 1. Why did you pick the specific chart?"
      ],
      "metadata": {
        "id": "1M8mcRywphqQ"
      }
    },
    {
      "cell_type": "markdown",
      "source": [
        "To compare lead times between canceled and non-canceled bookings."
      ],
      "metadata": {
        "id": "8agQvks0phqQ"
      }
    },
    {
      "cell_type": "markdown",
      "source": [
        "##### 2. What is/are the insight(s) found from the chart?"
      ],
      "metadata": {
        "id": "tgIPom80phqQ"
      }
    },
    {
      "cell_type": "markdown",
      "source": [
        "Canceled bookings have significantly higher lead times."
      ],
      "metadata": {
        "id": "Qp13pnNzphqQ"
      }
    },
    {
      "cell_type": "markdown",
      "source": [
        "##### 3. Will the gained insights help creating a positive business impact?\n",
        "Are there any insights that lead to negative growth? Justify with specific reason."
      ],
      "metadata": {
        "id": "JMzcOPDDphqR"
      }
    },
    {
      "cell_type": "markdown",
      "source": [
        "Implement measures to reduce cancellations for long lead time bookings."
      ],
      "metadata": {
        "id": "R4Ka1PC2phqR"
      }
    },
    {
      "cell_type": "markdown",
      "source": [
        "#### Chart - 11"
      ],
      "metadata": {
        "id": "x-EpHcCOp1ci"
      }
    },
    {
      "cell_type": "code",
      "source": [
        "# Chart - 11 visualization code\n",
        "# Heatmap - Booking Changes by Month\n",
        "booking_changes = df.pivot_table(index='arrival_date_month', columns='booking_changes', aggfunc='size')\n",
        "plt.figure(figsize=(15, 6))\n",
        "sns.heatmap(booking_changes, cmap='YlGnBu', annot=True, fmt='.0f')\n",
        "plt.title('Booking Changes by Month')\n",
        "plt.xlabel('Number of Booking Changes')\n",
        "plt.ylabel('Month')\n",
        "plt.show()"
      ],
      "metadata": {
        "id": "mAQTIvtqp1cj"
      },
      "execution_count": null,
      "outputs": []
    },
    {
      "cell_type": "markdown",
      "source": [
        "##### 1. Why did you pick the specific chart?"
      ],
      "metadata": {
        "id": "X_VqEhTip1ck"
      }
    },
    {
      "cell_type": "markdown",
      "source": [
        "To visualize the frequency of booking changes across different months."
      ],
      "metadata": {
        "id": "-vsMzt_np1ck"
      }
    },
    {
      "cell_type": "markdown",
      "source": [
        "##### 2. What is/are the insight(s) found from the chart?"
      ],
      "metadata": {
        "id": "8zGJKyg5p1ck"
      }
    },
    {
      "cell_type": "markdown",
      "source": [
        "Higher booking changes occur during peak months."
      ],
      "metadata": {
        "id": "ZYdMsrqVp1ck"
      }
    },
    {
      "cell_type": "markdown",
      "source": [
        "##### 3. Will the gained insights help creating a positive business impact?\n",
        "Are there any insights that lead to negative growth? Justify with specific reason."
      ],
      "metadata": {
        "id": "PVzmfK_Ep1ck"
      }
    },
    {
      "cell_type": "markdown",
      "source": [
        "Improve customer communication and flexibility during peak periods to manage booking changes."
      ],
      "metadata": {
        "id": "druuKYZpp1ck"
      }
    },
    {
      "cell_type": "markdown",
      "source": [
        "#### Chart - 12"
      ],
      "metadata": {
        "id": "n3dbpmDWp1ck"
      }
    },
    {
      "cell_type": "code",
      "source": [
        "# Chart - 12 visualization code\n",
        "# KDE Plot - Distribution of ADR by Hotel Type\n",
        "plt.figure(figsize=(15, 6))\n",
        "sns.kdeplot(data=df, x='adr', hue='hotel', fill=True)\n",
        "plt.title('Distribution of ADR by Hotel Type')\n",
        "plt.xlabel('Average Daily Rate (ADR)')\n",
        "plt.ylabel('Density')\n",
        "plt.show()"
      ],
      "metadata": {
        "id": "bwevp1tKp1ck"
      },
      "execution_count": null,
      "outputs": []
    },
    {
      "cell_type": "markdown",
      "source": [
        "##### 1. Why did you pick the specific chart?"
      ],
      "metadata": {
        "id": "ylSl6qgtp1ck"
      }
    },
    {
      "cell_type": "markdown",
      "source": [
        "To compare the distribution of ADR between city and resort hotels."
      ],
      "metadata": {
        "id": "m2xqNkiQp1ck"
      }
    },
    {
      "cell_type": "markdown",
      "source": [
        "##### 2. What is/are the insight(s) found from the chart?"
      ],
      "metadata": {
        "id": "ZWILFDl5p1ck"
      }
    },
    {
      "cell_type": "markdown",
      "source": [
        "Resort hotels have a broader and higher ADR distribution."
      ],
      "metadata": {
        "id": "x-lUsV2mp1ck"
      }
    },
    {
      "cell_type": "markdown",
      "source": [
        "##### 3. Will the gained insights help creating a positive business impact?\n",
        "Are there any insights that lead to negative growth? Justify with specific reason."
      ],
      "metadata": {
        "id": "M7G43BXep1ck"
      }
    },
    {
      "cell_type": "markdown",
      "source": [
        "Adjust pricing strategies for resort hotels to capitalize on higher ADR potential."
      ],
      "metadata": {
        "id": "5wwDJXsLp1cl"
      }
    },
    {
      "cell_type": "markdown",
      "source": [
        "#### Chart - 13"
      ],
      "metadata": {
        "id": "Ag9LCva-p1cl"
      }
    },
    {
      "cell_type": "code",
      "source": [
        "# Chart - 13 visualization code\n",
        "# Line Chart - Trend of ADR Over Time\n",
        "monthly_adr = df.groupby('arrival_date_month')['adr'].mean()\n",
        "plt.figure(figsize=(15, 6))\n",
        "monthly_adr.plot(kind='line', marker='o')\n",
        "plt.title('Trend of ADR Over Time')\n",
        "plt.xlabel('Month')\n",
        "plt.ylabel('Average Daily Rate (ADR)')\n",
        "plt.show()"
      ],
      "metadata": {
        "id": "EUfxeq9-p1cl"
      },
      "execution_count": null,
      "outputs": []
    },
    {
      "cell_type": "markdown",
      "source": [
        "##### 1. Why did you pick the specific chart?"
      ],
      "metadata": {
        "id": "E6MkPsBcp1cl"
      }
    },
    {
      "cell_type": "markdown",
      "source": [
        "To analyze the trend of ADR over the months."
      ],
      "metadata": {
        "id": "V22bRsFWp1cl"
      }
    },
    {
      "cell_type": "markdown",
      "source": [
        "##### 2. What is/are the insight(s) found from the chart?"
      ],
      "metadata": {
        "id": "2cELzS2fp1cl"
      }
    },
    {
      "cell_type": "markdown",
      "source": [
        "ADR fluctuates with peaks during holiday seasons."
      ],
      "metadata": {
        "id": "ozQPc2_Ip1cl"
      }
    },
    {
      "cell_type": "markdown",
      "source": [
        "##### 3. Will the gained insights help creating a positive business impact?\n",
        "Are there any insights that lead to negative growth? Justify with specific reason."
      ],
      "metadata": {
        "id": "3MPXvC8up1cl"
      }
    },
    {
      "cell_type": "markdown",
      "source": [
        "Plan pricing strategies to maximize revenue during high-demand periods."
      ],
      "metadata": {
        "id": "GL8l1tdLp1cl"
      }
    },
    {
      "cell_type": "markdown",
      "source": [
        "#### Chart - 14 - Correlation Heatmap"
      ],
      "metadata": {
        "id": "NC_X3p0fY2L0"
      }
    },
    {
      "cell_type": "code",
      "source": [
        "# Correlation Heatmap visualization code\n",
        "# Identify non-numerical columns\n",
        "non_numerical_cols = df.select_dtypes(exclude=[np.number]).columns\n",
        "\n",
        "# Drop non-numerical columns\n",
        "df_numerical = df.drop(non_numerical_cols, axis=1)\n",
        "\n",
        "# Calculate correlations on the numerical DataFrame\n",
        "plt.figure(figsize=(15, 8))\n",
        "sns.heatmap(df_numerical.corr(), annot=True, cmap='coolwarm', linewidths=0.5)\n",
        "plt.title('Correlation Matrix')\n",
        "plt.show()"
      ],
      "metadata": {
        "id": "xyC9zolEZNRQ"
      },
      "execution_count": null,
      "outputs": []
    },
    {
      "cell_type": "markdown",
      "source": [
        "##### 1. Why did you pick the specific chart?"
      ],
      "metadata": {
        "id": "UV0SzAkaZNRQ"
      }
    },
    {
      "cell_type": "markdown",
      "source": [
        "To identify relationships between numerical variables."
      ],
      "metadata": {
        "id": "DVPuT8LYZNRQ"
      }
    },
    {
      "cell_type": "markdown",
      "source": [
        "##### 2. What is/are the insight(s) found from the chart?"
      ],
      "metadata": {
        "id": "YPEH6qLeZNRQ"
      }
    },
    {
      "cell_type": "markdown",
      "source": [
        "Variables like lead_time and is_canceled show a positive correlation."
      ],
      "metadata": {
        "id": "bfSqtnDqZNRR"
      }
    },
    {
      "cell_type": "markdown",
      "source": [
        "#### Chart - 15 - Pair Plot"
      ],
      "metadata": {
        "id": "q29F0dvdveiT"
      }
    },
    {
      "cell_type": "code",
      "source": [
        "# Pair Plot visualization code\n",
        "sns.pairplot(df[['lead_time', 'adr', 'is_repeated_guest', 'is_canceled']], hue='is_canceled')\n",
        "plt.suptitle('Pair Plot of Key Variables', y=1.02)\n",
        "plt.show()"
      ],
      "metadata": {
        "id": "o58-TEIhveiU"
      },
      "execution_count": null,
      "outputs": []
    },
    {
      "cell_type": "markdown",
      "source": [
        "##### 1. Why did you pick the specific chart?"
      ],
      "metadata": {
        "id": "EXh0U9oCveiU"
      }
    },
    {
      "cell_type": "markdown",
      "source": [
        "To analyze relationships between key variables and cancellation status."
      ],
      "metadata": {
        "id": "eMmPjTByveiU"
      }
    },
    {
      "cell_type": "markdown",
      "source": [
        "##### 2. What is/are the insight(s) found from the chart?"
      ],
      "metadata": {
        "id": "22aHeOlLveiV"
      }
    },
    {
      "cell_type": "markdown",
      "source": [
        "Clear patterns emerge, showing relationships between lead time, ADR, and cancellations."
      ],
      "metadata": {
        "id": "uPQ8RGwHveiV"
      }
    },
    {
      "cell_type": "markdown",
      "source": [
        "## **5. Solution to Business Objective**"
      ],
      "metadata": {
        "id": "JcMwzZxoAimU"
      }
    },
    {
      "cell_type": "markdown",
      "source": [
        "#### What do you suggest the client to achieve Business Objective ?\n",
        "Explain Briefly."
      ],
      "metadata": {
        "id": "8G2x9gOozGDZ"
      }
    },
    {
      "cell_type": "markdown",
      "source": [
        "### Solution to Business Objective\n",
        "\n",
        "To address the business objective of improving the performance and profitability of the hotels, we propose a comprehensive strategy based on the insights derived from the data analysis. This strategy encompasses several key areas: pricing optimization, marketing and promotions, customer experience enhancement, and operational efficiency.\n",
        "\n",
        "#### 1. **Pricing Optimization**\n",
        "\n",
        "**Insight**: Different factors such as lead time, customer type, and seasonality significantly impact the Average Daily Rate (ADR).\n",
        "\n",
        "**Actions**:\n",
        "- Implement dynamic pricing models that adjust room rates based on demand forecasts, booking lead times, and seasonal trends.\n",
        "- Use data on ADR distribution by customer type to offer personalized pricing and targeted discounts for different customer segments (e.g., business travelers vs. leisure travelers).\n",
        "\n",
        "**Expected Impact**: Increased revenue through optimized pricing strategies that capture maximum willingness to pay from different customer segments.\n",
        "\n",
        "#### 2. **Marketing and Promotions**\n",
        "\n",
        "**Insight**: Bookings peak during specific months and from particular market segments like Online Travel Agents (OTA) and Groups.\n",
        "\n",
        "**Actions**:\n",
        "- Design and launch targeted marketing campaigns during peak booking periods to maximize occupancy.\n",
        "- Strengthen partnerships with OTAs and create special packages for groups to attract more bookings from these segments.\n",
        "- Use insights from booking patterns to develop off-peak promotions to increase bookings during low-demand periods.\n",
        "\n",
        "**Expected Impact**: Higher occupancy rates and increased bookings during both peak and off-peak seasons, leading to improved revenue consistency.\n",
        "\n",
        "#### 3. **Customer Experience Enhancement**\n",
        "\n",
        "**Insight**: Special requests are more common in resort hotels, and guests with special requests tend to have higher satisfaction.\n",
        "\n",
        "**Actions**:\n",
        "- Enhance the process of handling special requests by implementing a robust request management system to ensure all requests are addressed promptly.\n",
        "- Train staff to provide exceptional service to guests with special requests, ensuring a positive experience and encouraging repeat bookings.\n",
        "- Use guest feedback to continuously improve services and address any recurring issues.\n",
        "\n",
        "**Expected Impact**: Improved guest satisfaction, leading to higher repeat bookings and positive word-of-mouth, ultimately driving revenue growth.\n",
        "\n",
        "#### 4. **Operational Efficiency**\n",
        "\n",
        "**Insight**: Cancellations are higher for bookings with long lead times, and there is a mismatch between reserved and assigned room types.\n",
        "\n",
        "**Actions**:\n",
        "- Implement stricter cancellation policies for long lead-time bookings and offer incentives for confirmed bookings to reduce cancellations.\n",
        "- Improve the room allocation process to ensure guests receive their preferred room types, enhancing their overall experience.\n",
        "- Optimize staffing levels and resource allocation based on booking trends and peak periods to ensure efficient operations.\n",
        "\n",
        "**Expected Impact**: Reduced cancellations, improved room allocation accuracy, and efficient operations leading to cost savings and higher customer satisfaction.\n",
        "\n",
        "#### 5. **Technology and Data Utilization**\n",
        "\n",
        "**Insight**: Leveraging data can provide actionable insights to drive business decisions.\n",
        "\n",
        "**Actions**:\n",
        "- Invest in advanced data analytics tools and platforms to continuously monitor and analyze booking trends, customer preferences, and operational performance.\n",
        "- Use predictive analytics to forecast demand and adjust pricing, staffing, and inventory accordingly.\n",
        "- Develop a centralized data management system to integrate data from different sources and provide a holistic view of the business.\n",
        "\n",
        "**Expected Impact**: Enhanced decision-making capabilities, leading to better business outcomes and a competitive edge in the market."
      ],
      "metadata": {
        "id": "pASKb0qOza21"
      }
    },
    {
      "cell_type": "markdown",
      "source": [
        "# **Conclusion**"
      ],
      "metadata": {
        "id": "gCX9965dhzqZ"
      }
    },
    {
      "cell_type": "markdown",
      "source": [
        "The analysis of the hotel booking dataset has provided valuable insights into the factors affecting hotel performance and profitability. By focusing on key areas such as pricing optimization, marketing and promotions, customer experience enhancement, and operational efficiency, the hotel can address the business objective of improving performance and profitability.\n",
        "\n",
        "**Key Findings and Actions:**\n",
        "\n",
        "1. **Pricing Optimization:**\n",
        "   - Implement dynamic pricing models to adjust room rates based on demand, lead times, and seasonal trends.\n",
        "   - Personalize pricing strategies for different customer segments to capture maximum revenue.\n",
        "\n",
        "2. **Marketing and Promotions:**\n",
        "   - Launch targeted marketing campaigns during peak booking periods to maximize occupancy.\n",
        "   - Strengthen partnerships with Online Travel Agents (OTAs) and develop special packages for groups.\n",
        "   - Offer promotions during off-peak periods to boost bookings.\n",
        "\n",
        "3. **Customer Experience Enhancement:**\n",
        "   - Enhance the management of special requests to improve guest satisfaction.\n",
        "   - Train staff to deliver exceptional service, particularly for guests with special requests.\n",
        "   - Use guest feedback to continually improve services.\n",
        "\n",
        "4. **Operational Efficiency:**\n",
        "   - Implement stricter cancellation policies for long lead-time bookings.\n",
        "   - Optimize room allocation processes to ensure guests receive their preferred room types.\n",
        "   - Align staffing and resource allocation with booking trends to improve efficiency.\n",
        "\n",
        "5. **Technology and Data Utilization:**\n",
        "   - Invest in advanced data analytics tools to monitor and analyze booking trends and customer preferences.\n",
        "   - Use predictive analytics to forecast demand and adjust operations accordingly.\n",
        "   - Develop a centralized data management system for a comprehensive view of the business.\n",
        "\n",
        "**Business Impact:**\n",
        "\n",
        "- **Increased Revenue:** Through optimized pricing and targeted marketing, the hotels can capture more bookings and increase revenue.\n",
        "- **Enhanced Customer Satisfaction:** By addressing special requests efficiently and improving overall service quality, guest satisfaction will improve, leading to repeat bookings and positive word-of-mouth.\n",
        "- **Operational Efficiency:** Streamlining operations and better resource management will reduce costs and enhance service delivery.\n",
        "- **Competitive Edge:** Leveraging data analytics for informed decision-making will give the hotels a competitive advantage in the market.\n",
        "\n",
        "**Final Thoughts:**\n",
        "\n",
        "By implementing these strategic actions based on the data insights, the hotel can significantly improve its performance and profitability. Continuous monitoring and analysis will further enable the hotel to adapt to changing market conditions and customer preferences, ensuring sustained success in the competitive hospitality industry."
      ],
      "metadata": {
        "id": "Fjb1IsQkh3yE"
      }
    },
    {
      "cell_type": "markdown",
      "source": [
        "### ***Hurrah! You have successfully completed your EDA Capstone Project !!!***"
      ],
      "metadata": {
        "id": "gIfDvo9L0UH2"
      }
    }
  ]
}